{
 "cells": [
  {
   "cell_type": "code",
   "execution_count": 17,
   "metadata": {},
   "outputs": [],
   "source": [
    "from leuvenmapmatching.map.inmem import InMemMap\n",
    "from leuvenmapmatching.matcher.distance import DistanceMatcher\n",
    "import leuvenmapmatching.visualization as mm_viz\n",
    "import geopandas as gpd\n",
    "import pandas as pd\n",
    "import smopy\n",
    "from rdp import rdp\n",
    "#import folium\n",
    "#from matplotlib import pyplot as plt\n",
    "\n",
    "import osmnx as ox\n",
    "import csv"
   ]
  },
  {
   "cell_type": "markdown",
   "metadata": {},
   "source": [
    "# Open street map 가져오기"
   ]
  },
  {
   "cell_type": "code",
   "execution_count": 3,
   "metadata": {},
   "outputs": [],
   "source": [
    "def get_graph(base, dis):\n",
    "    graph = ox.graph_from_point(base, distance = dis, network_type='drive')\n",
    "    graph_proj = ox.project_graph(graph)\n",
    "    \n",
    "    return graph_proj"
   ]
  },
  {
   "cell_type": "code",
   "execution_count": 4,
   "metadata": {},
   "outputs": [],
   "source": [
    "'''\n",
    "base = (37.492797, 127.046334)\n",
    "length = 8000\n",
    "G = get_graph(base, length)\n",
    "'''"
   ]
  },
  {
   "cell_type": "code",
   "execution_count": 3,
   "metadata": {},
   "outputs": [
    {
     "data": {
      "text/plain": [
       "\"\\nbase = (37.492797, 127.046334)\\ngraph = ox.graph_from_point(base, distance = 8000, network_type='drive')\\ngraph_proj = ox.project_graph(graph)\\n\\n#ox.plot_graph(graph, fig_height = 10, fig_width = 10, edge_color='black')\\n\""
      ]
     },
     "execution_count": 3,
     "metadata": {},
     "output_type": "execute_result"
    }
   ],
   "source": [
    "'''\n",
    "base = (37.492797, 127.046334)\n",
    "graph = ox.graph_from_point(base, distance = 8000, network_type='drive')\n",
    "graph_proj = ox.project_graph(graph)\n",
    "\n",
    "#ox.plot_graph(graph, fig_height = 10, fig_width = 10, edge_color='black')\n",
    "'''"
   ]
  },
  {
   "cell_type": "code",
   "execution_count": 6,
   "metadata": {},
   "outputs": [],
   "source": [
    "# leuven map matching 적용위한 맵 생성\n",
    "\n",
    "def mk_map(graph_proj):\n",
    "    map_con = InMemMap(\"myosm\", use_latlon=True, use_rtree=True, index_edges=True)\n",
    "\n",
    "    #Create GeoDataFrames\n",
    "    nodes_proj, edges_proj = ox.graph_to_gdfs(graph_proj, nodes=True, edges=True)\n",
    "\n",
    "    #좌표계 변경\n",
    "    nodes_proj = nodes_proj.to_crs({'init': 'epsg:4326'})\n",
    "    edges_proj = edges_proj.to_crs({'init': 'epsg:4326'})\n",
    "\n",
    "    for nid, row in nodes_proj[['lon', 'lat']].iterrows():\n",
    "        map_con.add_node(nid, (row['lat'], row['lon']))\n",
    "    for nid, row in edges_proj[['u', 'v']].iterrows():\n",
    "        map_con.add_edge(row['u'],  row['v'])\n",
    "        \n",
    "    return map_con"
   ]
  },
  {
   "cell_type": "code",
   "execution_count": 5,
   "metadata": {},
   "outputs": [
    {
     "data": {
      "text/plain": [
       "'\\nmap_con = InMemMap(\"myosm\", use_latlon=True, use_rtree=True, index_edges=True)\\n\\n#Create GeoDataFrames\\nnodes_proj, edges_proj = ox.graph_to_gdfs(graph_proj, nodes=True, edges=True)\\n\\n#좌표계 변경\\nnodes_proj = nodes_proj.to_crs({\\'init\\': \\'epsg:4326\\'})\\nedges_proj = edges_proj.to_crs({\\'init\\': \\'epsg:4326\\'})\\n\\nfor nid, row in nodes_proj[[\\'lon\\', \\'lat\\']].iterrows():\\n    map_con.add_node(nid, (row[\\'lat\\'], row[\\'lon\\']))\\nfor nid, row in edges_proj[[\\'u\\', \\'v\\']].iterrows():\\n    map_con.add_edge(row[\\'u\\'],  row[\\'v\\'])\\n'"
      ]
     },
     "execution_count": 5,
     "metadata": {},
     "output_type": "execute_result"
    }
   ],
   "source": [
    "'''\n",
    "map_con = InMemMap(\"myosm\", use_latlon=True, use_rtree=True, index_edges=True)\n",
    "\n",
    "#Create GeoDataFrames\n",
    "nodes_proj, edges_proj = ox.graph_to_gdfs(graph_proj, nodes=True, edges=True)\n",
    "\n",
    "#좌표계 변경\n",
    "nodes_proj = nodes_proj.to_crs({'init': 'epsg:4326'})\n",
    "edges_proj = edges_proj.to_crs({'init': 'epsg:4326'})\n",
    "\n",
    "for nid, row in nodes_proj[['lon', 'lat']].iterrows():\n",
    "    map_con.add_node(nid, (row['lat'], row['lon']))\n",
    "for nid, row in edges_proj[['u', 'v']].iterrows():\n",
    "    map_con.add_edge(row['u'],  row['v'])\n",
    "'''\n"
   ]
  },
  {
   "cell_type": "markdown",
   "metadata": {},
   "source": [
    "# gps 데이터 가져오기"
   ]
  },
  {
   "cell_type": "code",
   "execution_count": 7,
   "metadata": {},
   "outputs": [],
   "source": [
    "def get_track(loc):\n",
    "    #gps data 불러오기\n",
    "    gps_data = pd.read_csv(loc)\n",
    "\n",
    "    #gps데이터에서 생성시간, 위도, 경도 데이터만 나타내기\n",
    "    gps_data = gps_data[['latitude', 'longitude']]\n",
    "\n",
    "    #이상치 제거 - 위도, 경도가 0이고, 속도가 0인 것(정지상태)\n",
    "    gps_data = gps_data[gps_data.latitude !=0]\n",
    "    gps_data = gps_data[gps_data.longitude !=0]\n",
    "    #gps_data = gps_data[gps_data.speed !=\"0.0mph\"]\n",
    "    \n",
    "    #rdp 미적용\n",
    "    route_list = [tuple(x) for x in gps_data.to_numpy()]\n",
    "    \n",
    "    #rdp 적용\n",
    "    #Florian Wilhelm - Handling GPS Data with Python https://youtu.be/9Q8nEA_0ccg\n",
    "    #route = rdp(gps_data[['latitude','longitude']].values, epsilon=1e-5)\n",
    "\n",
    "    #route(array 형식)를 list 형식으로 바꾸기\n",
    "    #route_list = [tuple(x) for x in route.tolist()]\n",
    "    \n",
    "    #일부 데이터만 이용 -> 나중에는 없애기\n",
    "    track = route_list[:500]\n",
    "    \n",
    "    return track"
   ]
  },
  {
   "cell_type": "code",
   "execution_count": 8,
   "metadata": {},
   "outputs": [
    {
     "data": {
      "text/plain": [
       "'\\n#gps data 불러오기\\ngps_data = pd.read_csv(\\'Task1_20191105.csv\\')\\n\\n#gps데이터에서 생성시간, 위도, 경도 데이터만 나타내기\\ngps_data = gps_data[[\\'latitude\\', \\'longitude\\']]\\n\\n#이상치 제거 - 위도, 경도가 0이고, 속도가 0인 것(정지상태)\\ngps_data = gps_data[gps_data.latitude !=0]\\ngps_data = gps_data[gps_data.longitude !=0]\\n#gps_data = gps_data[gps_data.speed !=\"0.0mph\"]\\n\\n#rdp 미적용\\nroute_list = [tuple(x) for x in gps_data.to_numpy()]\\n\\n#rdp 적용\\n#Florian Wilhelm - Handling GPS Data with Python https://youtu.be/9Q8nEA_0ccg\\n#route = rdp(gps_data[[\\'latitude\\',\\'longitude\\']].values, epsilon=1e-5)\\n\\n#route(array 형식)를 list 형식으로 바꾸기\\n#route_list = [tuple(x) for x in route.tolist()]\\n\\n#route_list 중 100개만 \\ntrack = route_list[:500]\\n'"
      ]
     },
     "execution_count": 8,
     "metadata": {},
     "output_type": "execute_result"
    }
   ],
   "source": [
    "'''\n",
    "#gps data 불러오기\n",
    "gps_data = pd.read_csv('Task1_20191105.csv')\n",
    "\n",
    "#gps데이터에서 생성시간, 위도, 경도 데이터만 나타내기\n",
    "gps_data = gps_data[['latitude', 'longitude']]\n",
    "\n",
    "#이상치 제거 - 위도, 경도가 0이고, 속도가 0인 것(정지상태)\n",
    "gps_data = gps_data[gps_data.latitude !=0]\n",
    "gps_data = gps_data[gps_data.longitude !=0]\n",
    "#gps_data = gps_data[gps_data.speed !=\"0.0mph\"]\n",
    "\n",
    "#rdp 미적용\n",
    "route_list = [tuple(x) for x in gps_data.to_numpy()]\n",
    "\n",
    "#rdp 적용\n",
    "#Florian Wilhelm - Handling GPS Data with Python https://youtu.be/9Q8nEA_0ccg\n",
    "#route = rdp(gps_data[['latitude','longitude']].values, epsilon=1e-5)\n",
    "\n",
    "#route(array 형식)를 list 형식으로 바꾸기\n",
    "#route_list = [tuple(x) for x in route.tolist()]\n",
    "\n",
    "#route_list 중 100개만 \n",
    "track = route_list[:500]\n",
    "'''"
   ]
  },
  {
   "cell_type": "markdown",
   "metadata": {},
   "source": [
    "# Leuven map matching 적용하기"
   ]
  },
  {
   "cell_type": "code",
   "execution_count": 9,
   "metadata": {},
   "outputs": [],
   "source": [
    "def dis_matcher(map_con, track):\n",
    "    matcher = DistanceMatcher(map_con,\n",
    "                              max_dist = 200, min_prob_norm=0.0001,\n",
    "                              non_emitting_length_factor=0.5,\n",
    "                              obs_noise=10, obs_noise_ne=10,\n",
    "                              dist_noise=100,\n",
    "                              max_lattice_width=5, avoid_goingback=True,\n",
    "                              non_emitting_states=True)\n",
    "    states, last_idx = matcher.match(track)\n",
    "\n",
    "    nodes = matcher.path_pred_onlynodes\n",
    "    \n",
    "    return matcher, nodes"
   ]
  },
  {
   "cell_type": "code",
   "execution_count": 9,
   "metadata": {},
   "outputs": [
    {
     "data": {
      "text/plain": [
       "'\\nmatcher = DistanceMatcher(map_con,\\n                              max_dist = 200, min_prob_norm=0.0001,\\n                              non_emitting_length_factor=0.5,\\n                              obs_noise=10, obs_noise_ne=10,\\n                              dist_noise=100,\\n                              max_lattice_width=5, avoid_goingback=True,\\n                              non_emitting_states=True)\\nstates, last_idx = matcher.match(track)\\n\\nnodes = matcher.path_pred_onlynodes\\n'"
      ]
     },
     "execution_count": 9,
     "metadata": {},
     "output_type": "execute_result"
    }
   ],
   "source": [
    "'''\n",
    "matcher = DistanceMatcher(map_con,\n",
    "                              max_dist = 200, min_prob_norm=0.0001,\n",
    "                              non_emitting_length_factor=0.5,\n",
    "                              obs_noise=10, obs_noise_ne=10,\n",
    "                              dist_noise=100,\n",
    "                              max_lattice_width=5, avoid_goingback=True,\n",
    "                              non_emitting_states=True)\n",
    "states, last_idx = matcher.match(track)\n",
    "\n",
    "nodes = matcher.path_pred_onlynodes\n",
    "'''"
   ]
  },
  {
   "cell_type": "code",
   "execution_count": 10,
   "metadata": {},
   "outputs": [
    {
     "data": {
      "text/plain": [
       "'\\n#leuven map matching내의 메소드 이용하여 시각화\\nmm_viz.plot_map(map_con, matcher=matcher, use_osm=True,show_labels=False,\\n                zoom_path=True, show_graph=False, show_matching=True,\\n                filename=str(\"result.png\"))\\n\\n'"
      ]
     },
     "execution_count": 10,
     "metadata": {},
     "output_type": "execute_result"
    }
   ],
   "source": [
    "'''\n",
    "#leuven map matching내의 메소드 이용하여 시각화\n",
    "mm_viz.plot_map(map_con, matcher=matcher, use_osm=True,show_labels=False,\n",
    "                zoom_path=True, show_graph=False, show_matching=True,\n",
    "                filename=str(\"result.png\"))\n",
    "\n",
    "'''"
   ]
  },
  {
   "cell_type": "code",
   "execution_count": 10,
   "metadata": {},
   "outputs": [],
   "source": [
    "def to_pixels(lat, lon=None):\n",
    "    if lon is None:\n",
    "        lat, lon = lat[0], lat[1]\n",
    "    return lon, lat"
   ]
  },
  {
   "cell_type": "code",
   "execution_count": 11,
   "metadata": {},
   "outputs": [],
   "source": [
    "#matching 노드의 좌표값 찾기\n",
    "def find_mid_nodes(map_con, matcher):\n",
    "    coords_list = []\n",
    "    coord_trans = None\n",
    "    ax = None\n",
    "    \n",
    "    z=18\n",
    "    \n",
    "    bb = map_con.bb()    \n",
    "    m = smopy.Map(bb, z=z, ax=ax)\n",
    "    \n",
    "    if matcher is not None:\n",
    "        lat_nodes = matcher.lattice_best\n",
    "    else:\n",
    "        lat_nodes = None\n",
    "    \n",
    "    for idx, m in enumerate(lat_nodes):\n",
    "        lat, lon = m.edge_m.pi[:2]\n",
    "        #lat2, lon2 = m.edge_o.pi[:2]\n",
    "        \n",
    "        if coord_trans:\n",
    "         #   lat, lon = coord_trans(lat, lon)\n",
    "            lat2, lon2 = coord_trans(lat2, lon2)\n",
    "    \n",
    "        x,y = to_pixels(lat,lon)\n",
    "        #x2, y2 = to_pixels(lat2, lon2)\n",
    "        coords_list.append((y,x))   \n",
    "\n",
    "    return coords_list"
   ]
  },
  {
   "cell_type": "code",
   "execution_count": 12,
   "metadata": {},
   "outputs": [],
   "source": [
    "def get_match_coords(G, nodes):\n",
    "    match_coords_list = match_nodes_geom(graph, nodes)\n",
    "    \n",
    "    return match_coords_list"
   ]
  },
  {
   "cell_type": "markdown",
   "metadata": {},
   "source": [
    "# Folium 이용한 시각화\n",
    "\n",
    "중간에 매칭된 mid node 좌표 찾기 (mm_viz로 그린 결과에서 초록색 x)\n",
    "다 안해도 됨"
   ]
  },
  {
   "cell_type": "code",
   "execution_count": 14,
   "metadata": {},
   "outputs": [
    {
     "data": {
      "text/plain": [
       "'\\n#base_map 형식 지정하기\\ndef generateBaseMap(default_location = [37.492397, 127.039084], default_zoom_start = 12):\\n    base_map = folium.Map(location = default_location, control_scale = True, zoom_start = default_zoom_start)\\n    return base_map\\n\\ndef match_nodes_geom(G, nodes_list):\\n    geom = []\\n    ex_n = len(nodes)\\n    \\n    for i in range(0, ex_n):\\n        t = (G.nodes[nodes_list[i]][\\'y\\'], G.nodes[nodes_list[i]][\\'x\\'])\\n        geom.append(t)\\n        \\n    return geom\\n\\ndef mk_match_folium(match_coords_list):\\n    match_base_map = generateBaseMap()\\n\\n    #gps 데이터를 나타내기\\n    for each in match_coords_list:\\n        folium.Marker(each).add_to(match_base_map)\\n\\n\\n    folium.PolyLine(match_coords_list).add_to(match_base_map)\\n\\n    match_base_map.save(\"match_nodes.html\")\\n    \\ndef mk_mid_folium(mid_coords_list):\\n    mid_base_map = generateBaseMap()\\n\\n    for each in mid_coords_list:\\n        folium.Marker(each).add_to(mid_base_map)\\n\\n    folium.PolyLine(mid_coords_list).add_to(mid_base_map)\\n\\n    mid_base_map.save(\"mid_nodes.html\")\\n'"
      ]
     },
     "execution_count": 14,
     "metadata": {},
     "output_type": "execute_result"
    }
   ],
   "source": [
    "'''\n",
    "#base_map 형식 지정하기\n",
    "def generateBaseMap(default_location = [37.492397, 127.039084], default_zoom_start = 12):\n",
    "    base_map = folium.Map(location = default_location, control_scale = True, zoom_start = default_zoom_start)\n",
    "    return base_map\n",
    "\n",
    "def match_nodes_geom(G, nodes_list):\n",
    "    geom = []\n",
    "    ex_n = len(nodes)\n",
    "    \n",
    "    for i in range(0, ex_n):\n",
    "        t = (G.nodes[nodes_list[i]]['y'], G.nodes[nodes_list[i]]['x'])\n",
    "        geom.append(t)\n",
    "        \n",
    "    return geom\n",
    "\n",
    "def mk_match_folium(match_coords_list):\n",
    "    match_base_map = generateBaseMap()\n",
    "\n",
    "    #gps 데이터를 나타내기\n",
    "    for each in match_coords_list:\n",
    "        folium.Marker(each).add_to(match_base_map)\n",
    "\n",
    "\n",
    "    folium.PolyLine(match_coords_list).add_to(match_base_map)\n",
    "\n",
    "    match_base_map.save(\"match_nodes.html\")\n",
    "    \n",
    "def mk_mid_folium(mid_coords_list):\n",
    "    mid_base_map = generateBaseMap()\n",
    "\n",
    "    for each in mid_coords_list:\n",
    "        folium.Marker(each).add_to(mid_base_map)\n",
    "\n",
    "    folium.PolyLine(mid_coords_list).add_to(mid_base_map)\n",
    "\n",
    "    mid_base_map.save(\"mid_nodes.html\")\n",
    "'''"
   ]
  },
  {
   "cell_type": "code",
   "execution_count": 15,
   "metadata": {},
   "outputs": [
    {
     "data": {
      "text/plain": [
       "'\\nmatch_coords_list = match_nodes_geom(graph, nodes)\\n\\nmid_coords_list = []\\nfind_mid_nodes(matcher, mid_coords_list)\\n'"
      ]
     },
     "execution_count": 15,
     "metadata": {},
     "output_type": "execute_result"
    }
   ],
   "source": [
    "'''\n",
    "match_coords_list = match_nodes_geom(graph, nodes)\n",
    "\n",
    "mid_coords_list = []\n",
    "find_mid_nodes(matcher, mid_coords_list)\n",
    "'''"
   ]
  },
  {
   "cell_type": "code",
   "execution_count": 16,
   "metadata": {},
   "outputs": [
    {
     "data": {
      "text/plain": [
       "'\\nmatch_base_map = generateBaseMap()\\n\\n#gps 데이터를 나타내기\\nfor each in match_coords_list:\\n    folium.Marker(each).add_to(match_base_map)\\n\\n\\nfolium.PolyLine(match_coords_list).add_to(match_base_map)\\n\\nmatch_base_map.save(\"match_nodes.html\")\\n\\nmid_coords_list = []\\nfind_mid_nodes(matcher, mid_coords_list)\\n\\nmid_base_map = generateBaseMap()\\n\\nfor each in mid_coords_list:\\n    folium.Marker(each).add_to(mid_base_map)\\n    \\nfolium.PolyLine(mid_coords_list).add_to(mid_base_map)\\n\\nmid_base_map.save(\"mid_nodes.html\")\\n'"
      ]
     },
     "execution_count": 16,
     "metadata": {},
     "output_type": "execute_result"
    }
   ],
   "source": [
    "'''\n",
    "match_base_map = generateBaseMap()\n",
    "\n",
    "#gps 데이터를 나타내기\n",
    "for each in match_coords_list:\n",
    "    folium.Marker(each).add_to(match_base_map)\n",
    "\n",
    "\n",
    "folium.PolyLine(match_coords_list).add_to(match_base_map)\n",
    "\n",
    "match_base_map.save(\"match_nodes.html\")\n",
    "\n",
    "mid_coords_list = []\n",
    "find_mid_nodes(matcher, mid_coords_list)\n",
    "\n",
    "mid_base_map = generateBaseMap()\n",
    "\n",
    "for each in mid_coords_list:\n",
    "    folium.Marker(each).add_to(mid_base_map)\n",
    "    \n",
    "folium.PolyLine(mid_coords_list).add_to(mid_base_map)\n",
    "\n",
    "mid_base_map.save(\"mid_nodes.html\")\n",
    "'''"
   ]
  },
  {
   "cell_type": "code",
   "execution_count": 15,
   "metadata": {},
   "outputs": [],
   "source": [
    "def main():\n",
    "  \n",
    "    base = (37.492797, 127.046334)\n",
    "    length = 8000\n",
    "    G = get_graph(base, length)   \n",
    "    \n",
    "    loc = 'Task1_20191105.csv'\n",
    "    track = get_track(loc)\n",
    "    \n",
    "    map = mk_map(G)\n",
    "    \n",
    "    matcher, nodes = dis_matcher(map, track)\n",
    "    \n",
    "    coords_list = find_mid_nodes(map, matcher)\n",
    "    \n",
    "    return coords_list"
   ]
  },
  {
   "cell_type": "code",
   "execution_count": 19,
   "metadata": {},
   "outputs": [
    {
     "name": "stdout",
     "output_type": "stream",
     "text": [
      "Lowered zoom level to keep map size reasonable. (z = 12)\n"
     ]
    }
   ],
   "source": [
    "if __name__ == '__main__':\n",
    "    coords = main()\n",
    "    \n",
    "    print(coords)\n",
    "    \n",
    "    #route 리스트를 csv 파일로 저장\n",
    "    csvfile = open(\"coords.csv\", \"w\", newline=\"\")\n",
    "    \n",
    "    csvwriter = csv.writer(csvfile)\n",
    "    for row in coords:\n",
    "        csvwriter.writerow(row)\n",
    "        \n",
    "    csvfile.close()"
   ]
  }
 ],
 "metadata": {
  "kernelspec": {
   "display_name": "Python 3",
   "language": "python",
   "name": "python3"
  },
  "language_info": {
   "codemirror_mode": {
    "name": "ipython",
    "version": 3
   },
   "file_extension": ".py",
   "mimetype": "text/x-python",
   "name": "python",
   "nbconvert_exporter": "python",
   "pygments_lexer": "ipython3",
   "version": "3.7.3"
  }
 },
 "nbformat": 4,
 "nbformat_minor": 2
}
